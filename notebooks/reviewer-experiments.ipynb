{
 "cells": [
  {
   "cell_type": "code",
   "execution_count": 10,
   "metadata": {},
   "outputs": [
    {
     "data": {
      "text/plain": [
       "True"
      ]
     },
     "execution_count": 10,
     "metadata": {},
     "output_type": "execute_result"
    }
   ],
   "source": [
    "from dotenv import load_dotenv\n",
    "\n",
    "load_dotenv(\"../.env\")"
   ]
  },
  {
   "cell_type": "code",
   "execution_count": 11,
   "metadata": {},
   "outputs": [],
   "source": [
    "import os\n",
    "from langchain.llms import AzureOpenAI\n",
    "\n",
    "deployment_name = os.getenv(\"AZURE_OPENAI_DEPLOYMENT_NAME\")\n",
    "model_name = os.getenv(\"AZURE_OPENAI_MODEL_NAME\")\n",
    "\n",
    "llm = AzureOpenAI(\n",
    "    deployment_name=deployment_name,\n",
    "    model_name=model_name,\n",
    ")"
   ]
  },
  {
   "cell_type": "code",
   "execution_count": 12,
   "metadata": {},
   "outputs": [
    {
     "name": "stdout",
     "output_type": "stream",
     "text": [
      "public async Task UpdateOrderAsync(int basketId, Address shippingAddress)\n",
      "{\n",
      "    var basket = await _basketRepository.GetByIdAsync(basketId);\n",
      "    Guard.Against.NullBasket(basketId, basket);\n",
      "    var items = new List<OrderItem>();\n",
      "    foreach (var item in basket.Items)\n",
      "    {\n",
      "        var catalogItem = await _itemRepository.GetByIdAsync(item.CatalogItemId);\n",
      "        var itemOrdered = new CatalogItemOrdered(catalogItem.Id, catalogItem.Name, catalogItem.PictureUri);\n",
      "        var orderItem = new OrderItem(itemOrdered, item.UnitPrice, item.Quantity);\n",
      "        items.AddAsync(orderItem);\n",
      "    }\n",
      "    var order = new Order(basket.BuyerId, shippingAddress, items);\n",
      "\n",
      "    await _orderRepository.UpdateAsync(order);\n",
      "}\n"
     ]
    }
   ],
   "source": [
    "code_block = \"\"\n",
    "with open(\"..\\\\tests\\\\data\\\\method-UpdateOrderAsync.cs\", \"r\") as file:\n",
    "    code_block = file.read()\n",
    "print(code_block)"
   ]
  },
  {
   "cell_type": "code",
   "execution_count": 15,
   "metadata": {},
   "outputs": [],
   "source": [
    "import sys\n",
    "sys.path.insert(0, '..')"
   ]
  },
  {
   "cell_type": "code",
   "execution_count": 17,
   "metadata": {},
   "outputs": [
    {
     "ename": "FileNotFoundError",
     "evalue": "[Errno 2] No such file or directory: 'review.txt'",
     "output_type": "error",
     "traceback": [
      "\u001b[1;31m---------------------------------------------------------------------------\u001b[0m",
      "\u001b[1;31mFileNotFoundError\u001b[0m                         Traceback (most recent call last)",
      "Cell \u001b[1;32mIn[17], line 3\u001b[0m\n\u001b[0;32m      1\u001b[0m \u001b[39mfrom\u001b[39;00m \u001b[39mapp\u001b[39;00m\u001b[39m.\u001b[39;00m\u001b[39mreviewer\u001b[39;00m\u001b[39m.\u001b[39;00m\u001b[39mchains\u001b[39;00m \u001b[39mimport\u001b[39;00m create_review_chain\n\u001b[1;32m----> 3\u001b[0m chain \u001b[39m=\u001b[39m create_review_chain(llm, code_block, \u001b[39m\"\u001b[39;49m\u001b[39mC#\u001b[39;49m\u001b[39m\"\u001b[39;49m)\n\u001b[0;32m      4\u001b[0m result \u001b[39m=\u001b[39m chain\u001b[39m.\u001b[39mrun()\n",
      "File \u001b[1;32mc:\\work\\llm\\co-developer\\notebooks\\..\\app\\reviewer\\chains.py:10\u001b[0m, in \u001b[0;36mcreate_review_chain\u001b[1;34m(llm, code, lang)\u001b[0m\n\u001b[0;32m      9\u001b[0m \u001b[39mdef\u001b[39;00m \u001b[39mcreate_review_chain\u001b[39m(llm: BaseLanguageModel, code: \u001b[39mstr\u001b[39m, lang: \u001b[39mstr\u001b[39m) \u001b[39m-\u001b[39m\u001b[39m>\u001b[39m LLMChain:\n\u001b[1;32m---> 10\u001b[0m     prompt \u001b[39m=\u001b[39m get_review_prompt(code, lang)\n\u001b[0;32m     11\u001b[0m     chain \u001b[39m=\u001b[39m create_structured_output_chain(List[ReviewComment], llm, prompt, verbose\u001b[39m=\u001b[39m\u001b[39mTrue\u001b[39;00m)\n\u001b[0;32m     12\u001b[0m     \u001b[39mreturn\u001b[39;00m chain\n",
      "File \u001b[1;32mc:\\work\\llm\\co-developer\\notebooks\\..\\app\\reviewer\\prompts\\__init__.py:5\u001b[0m, in \u001b[0;36mget_review_prompt\u001b[1;34m(input, lang)\u001b[0m\n\u001b[0;32m      4\u001b[0m \u001b[39mdef\u001b[39;00m \u001b[39mget_review_prompt\u001b[39m(\u001b[39minput\u001b[39m: \u001b[39mstr\u001b[39m, lang: \u001b[39mstr\u001b[39m) \u001b[39m-\u001b[39m\u001b[39m>\u001b[39m \u001b[39mstr\u001b[39m:\n\u001b[1;32m----> 5\u001b[0m     prompt \u001b[39m=\u001b[39m PromptTemplate\u001b[39m.\u001b[39;49mfrom_file(\u001b[39m\"\u001b[39;49m\u001b[39mreview.txt\u001b[39;49m\u001b[39m\"\u001b[39;49m, [\u001b[39m\"\u001b[39;49m\u001b[39minput\u001b[39;49m\u001b[39m\"\u001b[39;49m, \u001b[39m\"\u001b[39;49m\u001b[39mlang\u001b[39;49m\u001b[39m\"\u001b[39;49m])\n\u001b[0;32m      6\u001b[0m     prompt\u001b[39m.\u001b[39mformat(\u001b[39minput\u001b[39m\u001b[39m=\u001b[39m\u001b[39minput\u001b[39m, lang\u001b[39m=\u001b[39mlang)\n\u001b[0;32m      7\u001b[0m     \u001b[39mreturn\u001b[39;00m prompt\n",
      "File \u001b[1;32mc:\\Users\\amal\\AppData\\Local\\pypoetry\\Cache\\virtualenvs\\co-developer-OVj0XEVv-py3.9\\lib\\site-packages\\langchain\\prompts\\prompt.py:123\u001b[0m, in \u001b[0;36mPromptTemplate.from_file\u001b[1;34m(cls, template_file, input_variables, **kwargs)\u001b[0m\n\u001b[0;32m    110\u001b[0m \u001b[39m@classmethod\u001b[39m\n\u001b[0;32m    111\u001b[0m \u001b[39mdef\u001b[39;00m \u001b[39mfrom_file\u001b[39m(\n\u001b[0;32m    112\u001b[0m     \u001b[39mcls\u001b[39m, template_file: Union[\u001b[39mstr\u001b[39m, Path], input_variables: List[\u001b[39mstr\u001b[39m], \u001b[39m*\u001b[39m\u001b[39m*\u001b[39mkwargs: Any\n\u001b[0;32m    113\u001b[0m ) \u001b[39m-\u001b[39m\u001b[39m>\u001b[39m PromptTemplate:\n\u001b[0;32m    114\u001b[0m \u001b[39m    \u001b[39m\u001b[39m\"\"\"Load a prompt from a file.\u001b[39;00m\n\u001b[0;32m    115\u001b[0m \n\u001b[0;32m    116\u001b[0m \u001b[39m    Args:\u001b[39;00m\n\u001b[1;32m   (...)\u001b[0m\n\u001b[0;32m    121\u001b[0m \u001b[39m        The prompt loaded from the file.\u001b[39;00m\n\u001b[0;32m    122\u001b[0m \u001b[39m    \"\"\"\u001b[39;00m\n\u001b[1;32m--> 123\u001b[0m     \u001b[39mwith\u001b[39;00m \u001b[39mopen\u001b[39;49m(\u001b[39mstr\u001b[39;49m(template_file), \u001b[39m\"\u001b[39;49m\u001b[39mr\u001b[39;49m\u001b[39m\"\u001b[39;49m) \u001b[39mas\u001b[39;00m f:\n\u001b[0;32m    124\u001b[0m         template \u001b[39m=\u001b[39m f\u001b[39m.\u001b[39mread()\n\u001b[0;32m    125\u001b[0m     \u001b[39mreturn\u001b[39;00m \u001b[39mcls\u001b[39m(input_variables\u001b[39m=\u001b[39minput_variables, template\u001b[39m=\u001b[39mtemplate, \u001b[39m*\u001b[39m\u001b[39m*\u001b[39mkwargs)\n",
      "\u001b[1;31mFileNotFoundError\u001b[0m: [Errno 2] No such file or directory: 'review.txt'"
     ]
    }
   ],
   "source": [
    "from app.reviewer.chains import create_review_chain\n",
    "\n",
    "chain = create_review_chain(llm, code_block, \"C#\")\n",
    "result = chain.run()"
   ]
  }
 ],
 "metadata": {
  "kernelspec": {
   "display_name": "co-developer-OVj0XEVv-py3.9",
   "language": "python",
   "name": "python3"
  },
  "language_info": {
   "codemirror_mode": {
    "name": "ipython",
    "version": 3
   },
   "file_extension": ".py",
   "mimetype": "text/x-python",
   "name": "python",
   "nbconvert_exporter": "python",
   "pygments_lexer": "ipython3",
   "version": "3.9.13"
  },
  "orig_nbformat": 4
 },
 "nbformat": 4,
 "nbformat_minor": 2
}
