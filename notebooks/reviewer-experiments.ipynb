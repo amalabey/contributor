{
 "cells": [
  {
   "cell_type": "code",
   "execution_count": 31,
   "metadata": {},
   "outputs": [
    {
     "data": {
      "text/plain": [
       "True"
      ]
     },
     "execution_count": 31,
     "metadata": {},
     "output_type": "execute_result"
    }
   ],
   "source": [
    "from dotenv import load_dotenv\n",
    "\n",
    "load_dotenv(\"../.env\")"
   ]
  },
  {
   "cell_type": "code",
   "execution_count": 32,
   "metadata": {},
   "outputs": [],
   "source": [
    "import os\n",
    "from langchain.llms import AzureOpenAI\n",
    "\n",
    "deployment_name = os.getenv(\"AZURE_OPENAI_DEPLOYMENT_NAME\")\n",
    "model_name = os.getenv(\"AZURE_OPENAI_MODEL_NAME\")\n",
    "\n",
    "llm = AzureOpenAI(\n",
    "    deployment_name=deployment_name,\n",
    "    model_name=model_name,\n",
    ")"
   ]
  },
  {
   "cell_type": "code",
   "execution_count": 33,
   "metadata": {},
   "outputs": [
    {
     "name": "stdout",
     "output_type": "stream",
     "text": [
      "public async Task UpdateOrderAsync(int basketId, Address shippingAddress)\n",
      "{\n",
      "    var basket = await _basketRepository.GetByIdAsync(basketId);\n",
      "    Guard.Against.NullBasket(basketId, basket);\n",
      "    var items = new List<OrderItem>();\n",
      "    foreach (var item in basket.Items)\n",
      "    {\n",
      "        var catalogItem = await _itemRepository.GetByIdAsync(item.CatalogItemId);\n",
      "        var itemOrdered = new CatalogItemOrdered(catalogItem.Id, catalogItem.Name, catalogItem.PictureUri);\n",
      "        var orderItem = new OrderItem(itemOrdered, item.UnitPrice, item.Quantity);\n",
      "        items.AddAsync(orderItem);\n",
      "    }\n",
      "    var order = new Order(basket.BuyerId, shippingAddress, items);\n",
      "\n",
      "    await _orderRepository.UpdateAsync(order);\n",
      "}\n"
     ]
    }
   ],
   "source": [
    "code_block = \"\"\n",
    "with open(\"..\\\\tests\\\\data\\\\method-UpdateOrderAsync.cs\", \"r\") as file:\n",
    "    code_block = file.read()\n",
    "print(code_block)"
   ]
  },
  {
   "cell_type": "code",
   "execution_count": 34,
   "metadata": {},
   "outputs": [],
   "source": [
    "import sys\n",
    "sys.path.insert(0, '..')"
   ]
  },
  {
   "cell_type": "code",
   "execution_count": 35,
   "metadata": {},
   "outputs": [
    {
     "name": "stdout",
     "output_type": "stream",
     "text": [
      "c:\\work\\llm\\co-developer\\app\\reviewer\\prompts\\review.txt\n"
     ]
    },
    {
     "ename": "AttributeError",
     "evalue": "type object 'list' has no attribute 'schema'",
     "output_type": "error",
     "traceback": [
      "\u001b[1;31m---------------------------------------------------------------------------\u001b[0m",
      "\u001b[1;31mAttributeError\u001b[0m                            Traceback (most recent call last)",
      "Cell \u001b[1;32mIn[35], line 3\u001b[0m\n\u001b[0;32m      1\u001b[0m \u001b[39mfrom\u001b[39;00m \u001b[39mapp\u001b[39;00m\u001b[39m.\u001b[39;00m\u001b[39mreviewer\u001b[39;00m\u001b[39m.\u001b[39;00m\u001b[39mchains\u001b[39;00m \u001b[39mimport\u001b[39;00m create_review_chain\n\u001b[1;32m----> 3\u001b[0m chain \u001b[39m=\u001b[39m create_review_chain(llm, code_block, \u001b[39m\"\u001b[39;49m\u001b[39mC#\u001b[39;49m\u001b[39m\"\u001b[39;49m)\n\u001b[0;32m      4\u001b[0m result \u001b[39m=\u001b[39m chain\u001b[39m.\u001b[39mrun()\n",
      "File \u001b[1;32mc:\\work\\llm\\co-developer\\notebooks\\..\\app\\reviewer\\chains.py:11\u001b[0m, in \u001b[0;36mcreate_review_chain\u001b[1;34m(llm, code, lang)\u001b[0m\n\u001b[0;32m      9\u001b[0m \u001b[39mdef\u001b[39;00m \u001b[39mcreate_review_chain\u001b[39m(llm: BaseLanguageModel, code: \u001b[39mstr\u001b[39m, lang: \u001b[39mstr\u001b[39m) \u001b[39m-\u001b[39m\u001b[39m>\u001b[39m LLMChain:\n\u001b[0;32m     10\u001b[0m     prompt \u001b[39m=\u001b[39m get_review_prompt(code, lang)\n\u001b[1;32m---> 11\u001b[0m     chain \u001b[39m=\u001b[39m create_structured_output_chain(List[ReviewComment], llm, prompt, verbose\u001b[39m=\u001b[39;49m\u001b[39mTrue\u001b[39;49;00m)\n\u001b[0;32m     12\u001b[0m     \u001b[39mreturn\u001b[39;00m chain\n",
      "File \u001b[1;32mc:\\Users\\amal\\AppData\\Local\\pypoetry\\Cache\\virtualenvs\\co-developer-OVj0XEVv-py3.9\\lib\\site-packages\\langchain\\chains\\openai_functions\\base.py:329\u001b[0m, in \u001b[0;36mcreate_structured_output_chain\u001b[1;34m(output_schema, llm, prompt, output_parser, **kwargs)\u001b[0m\n\u001b[0;32m    274\u001b[0m \u001b[39m\u001b[39m\u001b[39m\"\"\"Create an LLMChain that uses an OpenAI function to get a structured output.\u001b[39;00m\n\u001b[0;32m    275\u001b[0m \n\u001b[0;32m    276\u001b[0m \u001b[39mArgs:\u001b[39;00m\n\u001b[1;32m   (...)\u001b[0m\n\u001b[0;32m    319\u001b[0m \u001b[39m            # -> Dog(name=\"Harry\", color=\"brown\", fav_food=\"chicken\")\u001b[39;00m\n\u001b[0;32m    320\u001b[0m \u001b[39m\"\"\"\u001b[39;00m  \u001b[39m# noqa: E501\u001b[39;00m\n\u001b[0;32m    321\u001b[0m function: Dict \u001b[39m=\u001b[39m {\n\u001b[0;32m    322\u001b[0m     \u001b[39m\"\u001b[39m\u001b[39mname\u001b[39m\u001b[39m\"\u001b[39m: \u001b[39m\"\u001b[39m\u001b[39moutput_formatter\u001b[39m\u001b[39m\"\u001b[39m,\n\u001b[0;32m    323\u001b[0m     \u001b[39m\"\u001b[39m\u001b[39mdescription\u001b[39m\u001b[39m\"\u001b[39m: (\n\u001b[1;32m   (...)\u001b[0m\n\u001b[0;32m    326\u001b[0m     ),\n\u001b[0;32m    327\u001b[0m }\n\u001b[0;32m    328\u001b[0m parameters \u001b[39m=\u001b[39m (\n\u001b[1;32m--> 329\u001b[0m     output_schema \u001b[39mif\u001b[39;00m \u001b[39misinstance\u001b[39m(output_schema, \u001b[39mdict\u001b[39m) \u001b[39melse\u001b[39;00m output_schema\u001b[39m.\u001b[39;49mschema()\n\u001b[0;32m    330\u001b[0m )\n\u001b[0;32m    331\u001b[0m function[\u001b[39m\"\u001b[39m\u001b[39mparameters\u001b[39m\u001b[39m\"\u001b[39m] \u001b[39m=\u001b[39m parameters\n\u001b[0;32m    332\u001b[0m \u001b[39mreturn\u001b[39;00m create_openai_fn_chain(\n\u001b[0;32m    333\u001b[0m     [function], llm, prompt, output_parser\u001b[39m=\u001b[39moutput_parser, \u001b[39m*\u001b[39m\u001b[39m*\u001b[39mkwargs\n\u001b[0;32m    334\u001b[0m )\n",
      "File \u001b[1;32mC:\\Program Files (x86)\\Microsoft Visual Studio\\Shared\\Python39_64\\lib\\typing.py:710\u001b[0m, in \u001b[0;36m_BaseGenericAlias.__getattr__\u001b[1;34m(self, attr)\u001b[0m\n\u001b[0;32m    706\u001b[0m \u001b[39mdef\u001b[39;00m \u001b[39m__getattr__\u001b[39m(\u001b[39mself\u001b[39m, attr):\n\u001b[0;32m    707\u001b[0m     \u001b[39m# We are careful for copy and pickle.\u001b[39;00m\n\u001b[0;32m    708\u001b[0m     \u001b[39m# Also for simplicity we don't relay any dunder names\u001b[39;00m\n\u001b[0;32m    709\u001b[0m     \u001b[39mif\u001b[39;00m \u001b[39m'\u001b[39m\u001b[39m__origin__\u001b[39m\u001b[39m'\u001b[39m \u001b[39min\u001b[39;00m \u001b[39mself\u001b[39m\u001b[39m.\u001b[39m\u001b[39m__dict__\u001b[39m \u001b[39mand\u001b[39;00m \u001b[39mnot\u001b[39;00m _is_dunder(attr):\n\u001b[1;32m--> 710\u001b[0m         \u001b[39mreturn\u001b[39;00m \u001b[39mgetattr\u001b[39;49m(\u001b[39mself\u001b[39;49m\u001b[39m.\u001b[39;49m__origin__, attr)\n\u001b[0;32m    711\u001b[0m     \u001b[39mraise\u001b[39;00m \u001b[39mAttributeError\u001b[39;00m(attr)\n",
      "\u001b[1;31mAttributeError\u001b[0m: type object 'list' has no attribute 'schema'"
     ]
    }
   ],
   "source": [
    "from app.reviewer.chains import create_review_chain\n",
    "\n",
    "chain = create_review_chain(llm, code_block, \"C#\")\n",
    "result = chain.run()"
   ]
  }
 ],
 "metadata": {
  "kernelspec": {
   "display_name": "co-developer-OVj0XEVv-py3.9",
   "language": "python",
   "name": "python3"
  },
  "language_info": {
   "codemirror_mode": {
    "name": "ipython",
    "version": 3
   },
   "file_extension": ".py",
   "mimetype": "text/x-python",
   "name": "python",
   "nbconvert_exporter": "python",
   "pygments_lexer": "ipython3",
   "version": "3.9.13"
  },
  "orig_nbformat": 4
 },
 "nbformat": 4,
 "nbformat_minor": 2
}
